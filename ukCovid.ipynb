{
 "cells": [
  {
   "cell_type": "markdown",
   "id": "369bb34f",
   "metadata": {},
   "source": [
    "## DATA\n"
   ]
  },
  {
   "cell_type": "markdown",
   "id": "afb8d8bf",
   "metadata": {},
   "source": [
    "#### Data collected from csse. \n",
    "https://github.com/CSSEGISandData/COVID-19/blob/master/csse_covid_19_data/csse_covid_19_time_series/time_series_covid19_recovered_global.csv\n",
    "\n",
    "https://github.com/CSSEGISandData/COVID-19/tree/master/csse_covid_19_data/csse_covid_19_time_series"
   ]
  },
  {
   "cell_type": "code",
   "execution_count": 2,
   "id": "0a499b31",
   "metadata": {},
   "outputs": [],
   "source": [
    "import pandas as pd\n",
    "import numpy as np\n",
    "import matplotlib.pyplot as plt\n",
    "import matplotlib.dates as mdates\n",
    "import seaborn as sns\n",
    "import matplotlib.pyplot as plt\n",
    "import numpy as np"
   ]
  },
  {
   "cell_type": "code",
   "execution_count": 2,
   "id": "cb15bda0",
   "metadata": {},
   "outputs": [],
   "source": [
    "url_confirmed_US = \"https://raw.githubusercontent.com/CSSEGISandData/COVID-19/master/csse_covid_19_data/csse_covid_19_time_series/time_series_covid19_confirmed_US.csv\"\n",
    "url_confirmed_global = \"https://raw.githubusercontent.com/CSSEGISandData/COVID-19/master/csse_covid_19_data/csse_covid_19_time_series/time_series_covid19_confirmed_global.csv\"\n",
    "url_deaths_US = \"https://raw.githubusercontent.com/CSSEGISandData/COVID-19/master/csse_covid_19_data/csse_covid_19_time_series/time_series_covid19_deaths_US.csv\"\n",
    "url_recovered_global = \"https://raw.githubusercontent.com/CSSEGISandData/COVID-19/master/csse_covid_19_data/csse_covid_19_time_series/time_series_covid19_recovered_global.csv\"\n",
    "url_deaths_global = 'https://raw.githubusercontent.com/CSSEGISandData/COVID-19/master/csse_covid_19_data/csse_covid_19_time_series/time_series_covid19_deaths_global.csv'"
   ]
  },
  {
   "cell_type": "markdown",
   "id": "d31eac96",
   "metadata": {},
   "source": [
    "    "
   ]
  },
  {
   "cell_type": "markdown",
   "id": "7cee4648",
   "metadata": {},
   "source": [
    "   "
   ]
  },
  {
   "cell_type": "markdown",
   "id": "6bfc6e8c",
   "metadata": {},
   "source": [
    "    "
   ]
  },
  {
   "cell_type": "markdown",
   "id": "7c906b6c",
   "metadata": {},
   "source": [
    "  "
   ]
  },
  {
   "cell_type": "markdown",
   "id": "e678dc7d",
   "metadata": {},
   "source": [
    "### Recovered Globally -- df_recovered_global"
   ]
  },
  {
   "cell_type": "code",
   "execution_count": 3,
   "id": "a2d5866e",
   "metadata": {},
   "outputs": [
    {
     "name": "stdout",
     "output_type": "stream",
     "text": [
      "new Data Appeneded - Confirmed Gloabally\n"
     ]
    }
   ],
   "source": [
    "data_recovered_global = pd.read_csv(url_recovered_global)\n",
    "file_recovered_global = data_recovered_global.to_csv('recovered_global.csv', mode = 'w')\n",
    "print(\"new Data Appeneded - Confirmed Gloabally\")"
   ]
  },
  {
   "cell_type": "markdown",
   "id": "0398978d",
   "metadata": {},
   "source": [
    "### Confirmed Global --  df_confirmed_gobal"
   ]
  },
  {
   "cell_type": "code",
   "execution_count": 4,
   "id": "d68f18e0",
   "metadata": {},
   "outputs": [
    {
     "name": "stdout",
     "output_type": "stream",
     "text": [
      "new Data Appeneded - US Confirmed\n"
     ]
    }
   ],
   "source": [
    "data_confirmed_global = pd.read_csv(url_confirmed_global)\n",
    "file_confirmed_global = data_confirmed_global.to_csv('confirmed_global.csv', mode = 'w')\n",
    "print(\"new Data Appeneded - US Confirmed\")"
   ]
  },
  {
   "cell_type": "markdown",
   "id": "71f7cec6",
   "metadata": {},
   "source": [
    "### Confirmed US -- df_confirmed_US"
   ]
  },
  {
   "cell_type": "code",
   "execution_count": 5,
   "id": "f234e113",
   "metadata": {},
   "outputs": [
    {
     "name": "stdout",
     "output_type": "stream",
     "text": [
      "new Data Appeneded - US Confirmed\n"
     ]
    }
   ],
   "source": [
    "data_confirmed_US = pd.read_csv(url_confirmed_US)\n",
    "file_confirmed_US = data_confirmed_US.to_csv(\"Confirmed_US.csv\", mode = 'w')\n",
    "print(\"new Data Appeneded - US Confirmed\")"
   ]
  },
  {
   "cell_type": "markdown",
   "id": "25546eb8",
   "metadata": {},
   "source": [
    "### Deaths US -- df_deaths_US"
   ]
  },
  {
   "cell_type": "code",
   "execution_count": 6,
   "id": "7cb43b2d",
   "metadata": {},
   "outputs": [
    {
     "name": "stdout",
     "output_type": "stream",
     "text": [
      "new Data Appeneded - Deaths US\n"
     ]
    }
   ],
   "source": [
    "data_deaths_US = pd.read_csv(url_deaths_US)\n",
    "file_deaths_US = data_deaths_US.to_csv('deaths_US.csv', mode='w')\n",
    "print(\"new Data Appeneded - Deaths US\")"
   ]
  },
  {
   "cell_type": "markdown",
   "id": "3be665ad",
   "metadata": {},
   "source": [
    "  "
   ]
  },
  {
   "cell_type": "markdown",
   "id": "bd93ba10",
   "metadata": {},
   "source": [
    "### Deaths Confirmed"
   ]
  },
  {
   "cell_type": "code",
   "execution_count": 7,
   "id": "dd38fd4c",
   "metadata": {},
   "outputs": [
    {
     "name": "stdout",
     "output_type": "stream",
     "text": [
      "new Data Appeneded - Deaths Global\n"
     ]
    }
   ],
   "source": [
    "data_deaths_global = pd.read_csv(url_deaths_global)\n",
    "file_deaths_global = data_deaths_global.to_csv('deaths_global.csv', mode='w')\n",
    "print(\"new Data Appeneded - Deaths Global\")"
   ]
  },
  {
   "cell_type": "markdown",
   "id": "1a07f125",
   "metadata": {},
   "source": [
    "     "
   ]
  },
  {
   "cell_type": "markdown",
   "id": "5b80991f",
   "metadata": {},
   "source": [
    "    "
   ]
  },
  {
   "cell_type": "markdown",
   "id": "fd4aa13c",
   "metadata": {},
   "source": [
    "     "
   ]
  },
  {
   "cell_type": "markdown",
   "id": "09e117de",
   "metadata": {},
   "source": [
    "### Read Saved Data"
   ]
  },
  {
   "cell_type": "code",
   "execution_count": 3,
   "id": "0a8d0ecb",
   "metadata": {},
   "outputs": [
    {
     "name": "stdout",
     "output_type": "stream",
     "text": [
      "Global Confirmed :  (282, 759)\n",
      "Global Recovered :  (267, 759)\n",
      "Global Deaths :  (282, 759)\n"
     ]
    }
   ],
   "source": [
    "#-------------------------------------------------\n",
    "#GLOBAL CONFIRMED\n",
    "\n",
    "global_confirmed = pd.read_csv(\"confirmed_global.csv\")\n",
    "df_global_confirmed = pd.DataFrame(global_confirmed)\n",
    "print(\"Global Confirmed : \",df_global_confirmed.shape)\n",
    "\n",
    "\n",
    "\n",
    "#-------------------------------------------------\n",
    "#GLOBAL Recovered\n",
    "\n",
    "global_recovered = pd.read_csv(\"recovered_global.csv\")\n",
    "df_global_recovered = pd.DataFrame(global_recovered)\n",
    "print(\"Global Recovered : \",df_global_recovered.shape)\n",
    "\n",
    "\n",
    "#-------------------------------------------------\n",
    "#GLOBAL Deaths\n",
    "\n",
    "\n",
    "global_deaths = pd.read_csv('deaths_global.csv')\n",
    "df_global_deaths = pd.DataFrame(global_deaths)\n",
    "print(\"Global Deaths : \", df_global_deaths.shape)"
   ]
  },
  {
   "cell_type": "code",
   "execution_count": 9,
   "id": "b68ca99f",
   "metadata": {},
   "outputs": [],
   "source": [
    "#Global Confirmed :  (280, 734)\n",
    "#Global Recovered :  (265, 734)\n",
    "#Global Deaths    :  (281, 734)\n",
    "#Data collected on first day"
   ]
  },
  {
   "cell_type": "markdown",
   "id": "efc75f8b",
   "metadata": {},
   "source": [
    "  "
   ]
  },
  {
   "cell_type": "markdown",
   "id": "8d65cb72",
   "metadata": {},
   "source": [
    "  "
   ]
  },
  {
   "cell_type": "code",
   "execution_count": 4,
   "id": "c4982f3e",
   "metadata": {},
   "outputs": [
    {
     "data": {
      "text/html": [
       "<div>\n",
       "<style scoped>\n",
       "    .dataframe tbody tr th:only-of-type {\n",
       "        vertical-align: middle;\n",
       "    }\n",
       "\n",
       "    .dataframe tbody tr th {\n",
       "        vertical-align: top;\n",
       "    }\n",
       "\n",
       "    .dataframe thead th {\n",
       "        text-align: right;\n",
       "    }\n",
       "</style>\n",
       "<table border=\"1\" class=\"dataframe\">\n",
       "  <thead>\n",
       "    <tr style=\"text-align: right;\">\n",
       "      <th></th>\n",
       "      <th>Unnamed: 0</th>\n",
       "      <th>Province/State</th>\n",
       "      <th>Country/Region</th>\n",
       "      <th>Lat</th>\n",
       "      <th>Long</th>\n",
       "      <th>1/22/20</th>\n",
       "      <th>1/23/20</th>\n",
       "      <th>1/24/20</th>\n",
       "      <th>1/25/20</th>\n",
       "      <th>1/26/20</th>\n",
       "      <th>...</th>\n",
       "      <th>2/4/22</th>\n",
       "      <th>2/5/22</th>\n",
       "      <th>2/6/22</th>\n",
       "      <th>2/7/22</th>\n",
       "      <th>2/8/22</th>\n",
       "      <th>2/9/22</th>\n",
       "      <th>2/10/22</th>\n",
       "      <th>2/11/22</th>\n",
       "      <th>2/12/22</th>\n",
       "      <th>2/13/22</th>\n",
       "    </tr>\n",
       "  </thead>\n",
       "  <tbody>\n",
       "    <tr>\n",
       "      <th>0</th>\n",
       "      <td>0</td>\n",
       "      <td>NaN</td>\n",
       "      <td>Afghanistan</td>\n",
       "      <td>33.93911</td>\n",
       "      <td>67.709953</td>\n",
       "      <td>0</td>\n",
       "      <td>0</td>\n",
       "      <td>0</td>\n",
       "      <td>0</td>\n",
       "      <td>0</td>\n",
       "      <td>...</td>\n",
       "      <td>7420</td>\n",
       "      <td>7425</td>\n",
       "      <td>7432</td>\n",
       "      <td>7442</td>\n",
       "      <td>7454</td>\n",
       "      <td>7465</td>\n",
       "      <td>7477</td>\n",
       "      <td>7478</td>\n",
       "      <td>7488</td>\n",
       "      <td>7494</td>\n",
       "    </tr>\n",
       "    <tr>\n",
       "      <th>1</th>\n",
       "      <td>1</td>\n",
       "      <td>NaN</td>\n",
       "      <td>Albania</td>\n",
       "      <td>41.15330</td>\n",
       "      <td>20.168300</td>\n",
       "      <td>0</td>\n",
       "      <td>0</td>\n",
       "      <td>0</td>\n",
       "      <td>0</td>\n",
       "      <td>0</td>\n",
       "      <td>...</td>\n",
       "      <td>3371</td>\n",
       "      <td>3371</td>\n",
       "      <td>3380</td>\n",
       "      <td>3387</td>\n",
       "      <td>3393</td>\n",
       "      <td>3399</td>\n",
       "      <td>3402</td>\n",
       "      <td>3402</td>\n",
       "      <td>3407</td>\n",
       "      <td>3410</td>\n",
       "    </tr>\n",
       "    <tr>\n",
       "      <th>2</th>\n",
       "      <td>2</td>\n",
       "      <td>NaN</td>\n",
       "      <td>Algeria</td>\n",
       "      <td>28.03390</td>\n",
       "      <td>1.659600</td>\n",
       "      <td>0</td>\n",
       "      <td>0</td>\n",
       "      <td>0</td>\n",
       "      <td>0</td>\n",
       "      <td>0</td>\n",
       "      <td>...</td>\n",
       "      <td>6631</td>\n",
       "      <td>6640</td>\n",
       "      <td>6646</td>\n",
       "      <td>6654</td>\n",
       "      <td>6667</td>\n",
       "      <td>6678</td>\n",
       "      <td>6690</td>\n",
       "      <td>6703</td>\n",
       "      <td>6715</td>\n",
       "      <td>6729</td>\n",
       "    </tr>\n",
       "    <tr>\n",
       "      <th>3</th>\n",
       "      <td>3</td>\n",
       "      <td>NaN</td>\n",
       "      <td>Andorra</td>\n",
       "      <td>42.50630</td>\n",
       "      <td>1.521800</td>\n",
       "      <td>0</td>\n",
       "      <td>0</td>\n",
       "      <td>0</td>\n",
       "      <td>0</td>\n",
       "      <td>0</td>\n",
       "      <td>...</td>\n",
       "      <td>147</td>\n",
       "      <td>147</td>\n",
       "      <td>147</td>\n",
       "      <td>147</td>\n",
       "      <td>147</td>\n",
       "      <td>148</td>\n",
       "      <td>148</td>\n",
       "      <td>148</td>\n",
       "      <td>148</td>\n",
       "      <td>148</td>\n",
       "    </tr>\n",
       "    <tr>\n",
       "      <th>4</th>\n",
       "      <td>4</td>\n",
       "      <td>NaN</td>\n",
       "      <td>Angola</td>\n",
       "      <td>-11.20270</td>\n",
       "      <td>17.873900</td>\n",
       "      <td>0</td>\n",
       "      <td>0</td>\n",
       "      <td>0</td>\n",
       "      <td>0</td>\n",
       "      <td>0</td>\n",
       "      <td>...</td>\n",
       "      <td>1896</td>\n",
       "      <td>1896</td>\n",
       "      <td>1896</td>\n",
       "      <td>1896</td>\n",
       "      <td>1896</td>\n",
       "      <td>1896</td>\n",
       "      <td>1897</td>\n",
       "      <td>1898</td>\n",
       "      <td>1898</td>\n",
       "      <td>1898</td>\n",
       "    </tr>\n",
       "    <tr>\n",
       "      <th>5</th>\n",
       "      <td>5</td>\n",
       "      <td>NaN</td>\n",
       "      <td>Antarctica</td>\n",
       "      <td>-71.94990</td>\n",
       "      <td>23.347000</td>\n",
       "      <td>0</td>\n",
       "      <td>0</td>\n",
       "      <td>0</td>\n",
       "      <td>0</td>\n",
       "      <td>0</td>\n",
       "      <td>...</td>\n",
       "      <td>0</td>\n",
       "      <td>0</td>\n",
       "      <td>0</td>\n",
       "      <td>0</td>\n",
       "      <td>0</td>\n",
       "      <td>0</td>\n",
       "      <td>0</td>\n",
       "      <td>0</td>\n",
       "      <td>0</td>\n",
       "      <td>0</td>\n",
       "    </tr>\n",
       "    <tr>\n",
       "      <th>6</th>\n",
       "      <td>6</td>\n",
       "      <td>NaN</td>\n",
       "      <td>Antigua and Barbuda</td>\n",
       "      <td>17.06080</td>\n",
       "      <td>-61.796400</td>\n",
       "      <td>0</td>\n",
       "      <td>0</td>\n",
       "      <td>0</td>\n",
       "      <td>0</td>\n",
       "      <td>0</td>\n",
       "      <td>...</td>\n",
       "      <td>127</td>\n",
       "      <td>127</td>\n",
       "      <td>131</td>\n",
       "      <td>131</td>\n",
       "      <td>131</td>\n",
       "      <td>131</td>\n",
       "      <td>134</td>\n",
       "      <td>134</td>\n",
       "      <td>134</td>\n",
       "      <td>134</td>\n",
       "    </tr>\n",
       "    <tr>\n",
       "      <th>7</th>\n",
       "      <td>7</td>\n",
       "      <td>NaN</td>\n",
       "      <td>Argentina</td>\n",
       "      <td>-38.41610</td>\n",
       "      <td>-63.616700</td>\n",
       "      <td>0</td>\n",
       "      <td>0</td>\n",
       "      <td>0</td>\n",
       "      <td>0</td>\n",
       "      <td>0</td>\n",
       "      <td>...</td>\n",
       "      <td>122439</td>\n",
       "      <td>122584</td>\n",
       "      <td>122684</td>\n",
       "      <td>122943</td>\n",
       "      <td>123227</td>\n",
       "      <td>123444</td>\n",
       "      <td>123707</td>\n",
       "      <td>123859</td>\n",
       "      <td>123987</td>\n",
       "      <td>124081</td>\n",
       "    </tr>\n",
       "    <tr>\n",
       "      <th>8</th>\n",
       "      <td>8</td>\n",
       "      <td>NaN</td>\n",
       "      <td>Armenia</td>\n",
       "      <td>40.06910</td>\n",
       "      <td>45.038200</td>\n",
       "      <td>0</td>\n",
       "      <td>0</td>\n",
       "      <td>0</td>\n",
       "      <td>0</td>\n",
       "      <td>0</td>\n",
       "      <td>...</td>\n",
       "      <td>8075</td>\n",
       "      <td>8081</td>\n",
       "      <td>8086</td>\n",
       "      <td>8097</td>\n",
       "      <td>8102</td>\n",
       "      <td>8108</td>\n",
       "      <td>8123</td>\n",
       "      <td>8145</td>\n",
       "      <td>8157</td>\n",
       "      <td>8167</td>\n",
       "    </tr>\n",
       "    <tr>\n",
       "      <th>9</th>\n",
       "      <td>9</td>\n",
       "      <td>Australian Capital Territory</td>\n",
       "      <td>Australia</td>\n",
       "      <td>-35.47350</td>\n",
       "      <td>149.012400</td>\n",
       "      <td>0</td>\n",
       "      <td>0</td>\n",
       "      <td>0</td>\n",
       "      <td>0</td>\n",
       "      <td>0</td>\n",
       "      <td>...</td>\n",
       "      <td>28</td>\n",
       "      <td>28</td>\n",
       "      <td>29</td>\n",
       "      <td>29</td>\n",
       "      <td>31</td>\n",
       "      <td>31</td>\n",
       "      <td>31</td>\n",
       "      <td>31</td>\n",
       "      <td>31</td>\n",
       "      <td>31</td>\n",
       "    </tr>\n",
       "    <tr>\n",
       "      <th>10</th>\n",
       "      <td>10</td>\n",
       "      <td>New South Wales</td>\n",
       "      <td>Australia</td>\n",
       "      <td>-33.86880</td>\n",
       "      <td>151.209300</td>\n",
       "      <td>0</td>\n",
       "      <td>0</td>\n",
       "      <td>0</td>\n",
       "      <td>0</td>\n",
       "      <td>0</td>\n",
       "      <td>...</td>\n",
       "      <td>1536</td>\n",
       "      <td>1564</td>\n",
       "      <td>1578</td>\n",
       "      <td>1596</td>\n",
       "      <td>1616</td>\n",
       "      <td>1640</td>\n",
       "      <td>1659</td>\n",
       "      <td>1691</td>\n",
       "      <td>1713</td>\n",
       "      <td>1727</td>\n",
       "    </tr>\n",
       "    <tr>\n",
       "      <th>11</th>\n",
       "      <td>11</td>\n",
       "      <td>Northern Territory</td>\n",
       "      <td>Australia</td>\n",
       "      <td>-12.46340</td>\n",
       "      <td>130.845600</td>\n",
       "      <td>0</td>\n",
       "      <td>0</td>\n",
       "      <td>0</td>\n",
       "      <td>0</td>\n",
       "      <td>0</td>\n",
       "      <td>...</td>\n",
       "      <td>4</td>\n",
       "      <td>4</td>\n",
       "      <td>5</td>\n",
       "      <td>5</td>\n",
       "      <td>5</td>\n",
       "      <td>5</td>\n",
       "      <td>7</td>\n",
       "      <td>7</td>\n",
       "      <td>10</td>\n",
       "      <td>10</td>\n",
       "    </tr>\n",
       "    <tr>\n",
       "      <th>12</th>\n",
       "      <td>12</td>\n",
       "      <td>Queensland</td>\n",
       "      <td>Australia</td>\n",
       "      <td>-27.46980</td>\n",
       "      <td>153.025100</td>\n",
       "      <td>0</td>\n",
       "      <td>0</td>\n",
       "      <td>0</td>\n",
       "      <td>0</td>\n",
       "      <td>0</td>\n",
       "      <td>...</td>\n",
       "      <td>268</td>\n",
       "      <td>277</td>\n",
       "      <td>296</td>\n",
       "      <td>308</td>\n",
       "      <td>332</td>\n",
       "      <td>340</td>\n",
       "      <td>354</td>\n",
       "      <td>367</td>\n",
       "      <td>371</td>\n",
       "      <td>377</td>\n",
       "    </tr>\n",
       "    <tr>\n",
       "      <th>13</th>\n",
       "      <td>13</td>\n",
       "      <td>South Australia</td>\n",
       "      <td>Australia</td>\n",
       "      <td>-34.92850</td>\n",
       "      <td>138.600700</td>\n",
       "      <td>0</td>\n",
       "      <td>0</td>\n",
       "      <td>0</td>\n",
       "      <td>0</td>\n",
       "      <td>0</td>\n",
       "      <td>...</td>\n",
       "      <td>125</td>\n",
       "      <td>127</td>\n",
       "      <td>133</td>\n",
       "      <td>137</td>\n",
       "      <td>139</td>\n",
       "      <td>139</td>\n",
       "      <td>148</td>\n",
       "      <td>148</td>\n",
       "      <td>151</td>\n",
       "      <td>154</td>\n",
       "    </tr>\n",
       "    <tr>\n",
       "      <th>14</th>\n",
       "      <td>14</td>\n",
       "      <td>Tasmania</td>\n",
       "      <td>Australia</td>\n",
       "      <td>-42.88210</td>\n",
       "      <td>147.327200</td>\n",
       "      <td>0</td>\n",
       "      <td>0</td>\n",
       "      <td>0</td>\n",
       "      <td>0</td>\n",
       "      <td>0</td>\n",
       "      <td>...</td>\n",
       "      <td>19</td>\n",
       "      <td>20</td>\n",
       "      <td>20</td>\n",
       "      <td>20</td>\n",
       "      <td>22</td>\n",
       "      <td>23</td>\n",
       "      <td>23</td>\n",
       "      <td>23</td>\n",
       "      <td>23</td>\n",
       "      <td>23</td>\n",
       "    </tr>\n",
       "  </tbody>\n",
       "</table>\n",
       "<p>15 rows × 759 columns</p>\n",
       "</div>"
      ],
      "text/plain": [
       "    Unnamed: 0                Province/State       Country/Region       Lat  \\\n",
       "0            0                           NaN          Afghanistan  33.93911   \n",
       "1            1                           NaN              Albania  41.15330   \n",
       "2            2                           NaN              Algeria  28.03390   \n",
       "3            3                           NaN              Andorra  42.50630   \n",
       "4            4                           NaN               Angola -11.20270   \n",
       "5            5                           NaN           Antarctica -71.94990   \n",
       "6            6                           NaN  Antigua and Barbuda  17.06080   \n",
       "7            7                           NaN            Argentina -38.41610   \n",
       "8            8                           NaN              Armenia  40.06910   \n",
       "9            9  Australian Capital Territory            Australia -35.47350   \n",
       "10          10               New South Wales            Australia -33.86880   \n",
       "11          11            Northern Territory            Australia -12.46340   \n",
       "12          12                    Queensland            Australia -27.46980   \n",
       "13          13               South Australia            Australia -34.92850   \n",
       "14          14                      Tasmania            Australia -42.88210   \n",
       "\n",
       "          Long  1/22/20  1/23/20  1/24/20  1/25/20  1/26/20  ...  2/4/22  \\\n",
       "0    67.709953        0        0        0        0        0  ...    7420   \n",
       "1    20.168300        0        0        0        0        0  ...    3371   \n",
       "2     1.659600        0        0        0        0        0  ...    6631   \n",
       "3     1.521800        0        0        0        0        0  ...     147   \n",
       "4    17.873900        0        0        0        0        0  ...    1896   \n",
       "5    23.347000        0        0        0        0        0  ...       0   \n",
       "6   -61.796400        0        0        0        0        0  ...     127   \n",
       "7   -63.616700        0        0        0        0        0  ...  122439   \n",
       "8    45.038200        0        0        0        0        0  ...    8075   \n",
       "9   149.012400        0        0        0        0        0  ...      28   \n",
       "10  151.209300        0        0        0        0        0  ...    1536   \n",
       "11  130.845600        0        0        0        0        0  ...       4   \n",
       "12  153.025100        0        0        0        0        0  ...     268   \n",
       "13  138.600700        0        0        0        0        0  ...     125   \n",
       "14  147.327200        0        0        0        0        0  ...      19   \n",
       "\n",
       "    2/5/22  2/6/22  2/7/22  2/8/22  2/9/22  2/10/22  2/11/22  2/12/22  2/13/22  \n",
       "0     7425    7432    7442    7454    7465     7477     7478     7488     7494  \n",
       "1     3371    3380    3387    3393    3399     3402     3402     3407     3410  \n",
       "2     6640    6646    6654    6667    6678     6690     6703     6715     6729  \n",
       "3      147     147     147     147     148      148      148      148      148  \n",
       "4     1896    1896    1896    1896    1896     1897     1898     1898     1898  \n",
       "5        0       0       0       0       0        0        0        0        0  \n",
       "6      127     131     131     131     131      134      134      134      134  \n",
       "7   122584  122684  122943  123227  123444   123707   123859   123987   124081  \n",
       "8     8081    8086    8097    8102    8108     8123     8145     8157     8167  \n",
       "9       28      29      29      31      31       31       31       31       31  \n",
       "10    1564    1578    1596    1616    1640     1659     1691     1713     1727  \n",
       "11       4       5       5       5       5        7        7       10       10  \n",
       "12     277     296     308     332     340      354      367      371      377  \n",
       "13     127     133     137     139     139      148      148      151      154  \n",
       "14      20      20      20      22      23       23       23       23       23  \n",
       "\n",
       "[15 rows x 759 columns]"
      ]
     },
     "execution_count": 4,
     "metadata": {},
     "output_type": "execute_result"
    }
   ],
   "source": [
    "df_global_deaths.head(15)"
   ]
  },
  {
   "cell_type": "markdown",
   "id": "77292f84",
   "metadata": {},
   "source": [
    "   "
   ]
  },
  {
   "cell_type": "markdown",
   "id": "8568b64d",
   "metadata": {},
   "source": [
    "  "
   ]
  },
  {
   "cell_type": "markdown",
   "id": "6ceb2617",
   "metadata": {},
   "source": [
    "### Ploting DATA "
   ]
  },
  {
   "cell_type": "code",
   "execution_count": 11,
   "id": "866df7ed",
   "metadata": {},
   "outputs": [
    {
     "name": "stdout",
     "output_type": "stream",
     "text": [
      "Please select, Which data you want to view \n",
      "Global Confirmed : '1' \n",
      "Global Recovered : '2' \n",
      "Global Deaths    : '3'\n",
      "Input : 1\n",
      "Enter Country name : Albania\n",
      "Nan\n",
      "[<matplotlib.lines.Line2D object at 0x000001BA9A4FC790>]\n",
      "Legend\n"
     ]
    },
    {
     "data": {
      "image/png": "[encoded data removed]",
      "text/plain": [
       "<Figure size 432x288 with 1 Axes>"
      ]
     },
     "metadata": {
      "needs_background": "light"
     },
     "output_type": "display_data"
    }
   ],
   "source": [
    "class countryGraph:\n",
    "    def __init__(self, country): \n",
    "        self.country = country        \n",
    "        \n",
    "    def global_CONFIRMED(self):\n",
    "        Selected_Country = df_global_confirmed[df_global_confirmed['Country/Region'] == self.country]\n",
    "        check_NaN = Selected_Country.index.shape[0]\n",
    "        if check_NaN > 1:\n",
    "            print(\"Not Nan\")\n",
    "            for row in range(Selected_Country.shape[0]):\n",
    "                print(plt.plot(Selected_Country.iloc[row,5:], label = Selected_Country['Province/State'][Selected_Country.index[0]+row])) \n",
    "                print(plt.legend())\n",
    "        else:\n",
    "            print(\"Nan\")\n",
    "            for row in range(Selected_Country.shape[0]):\n",
    "                print(plt.plot(Selected_Country.iloc[row,5:], label = Selected_Country['Country/Region'][1])) \n",
    "                print(plt.legend())\n",
    "        \n",
    "        \n",
    "    \n",
    "    def global_RECOVERED(self):\n",
    "        Selected_Country = df_global_recovered[df_global_recovered['Country/Region'] == self.country]\n",
    "        check_NaN = Selected_Country.index.shape[0]\n",
    "        if check_NaN > 1:\n",
    "            for row in range(Selected_Country.shape[0]):\n",
    "                print(plt.plot(Selected_Country.iloc[row,5:], label = Selected_Country['Province/State'][Selected_Country.index[0]+row])) \n",
    "                print(plt.legend())\n",
    "        else:\n",
    "            for row in range(Selected_Country.shape[0]):\n",
    "                print(plt.plot(Selected_Country.iloc[row,5:])) \n",
    "                print(plt.legend())\n",
    "        \n",
    "    \n",
    "    \n",
    "    def global_DEATHS(self):\n",
    "        Selected_Country = df_global_deaths[df_global_deaths['Country/Region'] == self.country]\n",
    "        check_NaN = Selected_Country.index.shape[0]\n",
    "        if check_NaN > 1:\n",
    "            \n",
    "            for row in range(Selected_Country.shape[0]):\n",
    "                print(plt.plot(Selected_Country.iloc[row,5:], label = Selected_Country['Province/State'][Selected_Country.index[0]+row])) \n",
    "                print(plt.legend())\n",
    "        else:\n",
    "            print('nan')\n",
    "            for row in range(Selected_Country.shape[0]):\n",
    "                print(plt.plot(Selected_Country.iloc[row,5:])) \n",
    "                print(plt.legend())\n",
    "        \n",
    "    \n",
    "def main():\n",
    "        user_input = input(\"Please select, Which data you want to view \\nGlobal Confirmed : '1' \\nGlobal Recovered : '2' \\nGlobal Deaths    : '3'\\nInput : \")\n",
    "        country_graph_ins = countryGraph(input(\"Enter Country name : \"))\n",
    "        if user_input == '1':\n",
    "                country_graph_ins.global_CONFIRMED()\n",
    "                \n",
    "        elif user_input == '2':\n",
    "                country_graph_ins.global_RECOVERED()\n",
    "                \n",
    "        elif user_input == '3':\n",
    "                country_graph_ins.global_DEATHS()\n",
    "                \n",
    "        else:\n",
    "                print('Please Enter valid option')\n",
    "                \n",
    "\n",
    "if __name__==\"__main__\":\n",
    "    main()"
   ]
  },
  {
   "cell_type": "code",
   "execution_count": 6,
   "id": "91c927c7",
   "metadata": {},
   "outputs": [],
   "source": [
    "import matplotlib.pyplot as plt\n",
    "import numpy as np"
   ]
  },
  {
   "cell_type": "code",
   "execution_count": null,
   "id": "25cdb515",
   "metadata": {},
   "outputs": [],
   "source": []
  },
  {
   "cell_type": "code",
   "execution_count": null,
   "id": "2b2247e4",
   "metadata": {},
   "outputs": [],
   "source": []
  },
  {
   "cell_type": "code",
   "execution_count": 7,
   "id": "252ab304",
   "metadata": {},
   "outputs": [
    {
     "ename": "SyntaxError",
     "evalue": "invalid syntax (<ipython-input-7-d05125346127>, line 11)",
     "output_type": "error",
     "traceback": [
      "\u001b[1;36m  File \u001b[1;32m\"<ipython-input-7-d05125346127>\"\u001b[1;36m, line \u001b[1;32m11\u001b[0m\n\u001b[1;33m    print(ax.plot((Selected_Country.iloc[row,5:], label = Selected_Country['Province/State'][Selected_Country.index[0]+row])))\u001b[0m\n\u001b[1;37m                                                        ^\u001b[0m\n\u001b[1;31mSyntaxError\u001b[0m\u001b[1;31m:\u001b[0m invalid syntax\n"
     ]
    }
   ],
   "source": [
    "Selected_Country = df_global_confirmed[df_global_confirmed['Country/Region'] == 'Albania']\n",
    "check_NaN = Selected_Country.index.shape[0]\n",
    "if check_NaN > 1:\n",
    "    print(\"Not Nan\")\n",
    "    fig, ax = plt.subplots(figsize=(10,3))\n",
    "    dates_month_locator = mdates.MonthLocator(interval=2)\n",
    "    date_formatter = mdates.DateFormatter('%b')\n",
    "    for row in range(Selected_Country.shape[0]):\n",
    "        ax.xaxis.set_major_locator(dates_month_locator)\n",
    "        ax.xaxis.set_majot_formatter(date_formatter)\n",
    "        print(ax.plot((Selected_Country.iloc[row,5:], label = Selected_Country['Province/State'][Selected_Country.index[0]+row])))\n",
    "        print(plt.legend())\n",
    "        _ = plt.xticks(rotation = 90)\n",
    "else:\n",
    "    print(\"Nan\")\n",
    "    for row in range(Selected_Country.shape[0]):\n",
    "        print(plt.plot(Selected_Country.iloc[row,5:],color = 'r', label = Selected_Country['Country/Region'][1])) \n",
    "        print(plt.legend())"
   ]
  },
  {
   "cell_type": "code",
   "execution_count": null,
   "id": "6bf54caf",
   "metadata": {},
   "outputs": [],
   "source": []
  },
  {
   "cell_type": "code",
   "execution_count": null,
   "id": "654f2f8b",
   "metadata": {},
   "outputs": [],
   "source": []
  },
  {
   "cell_type": "code",
   "execution_count": null,
   "id": "3b7330c5",
   "metadata": {},
   "outputs": [],
   "source": []
  },
  {
   "cell_type": "code",
   "execution_count": null,
   "id": "3bfe5e24",
   "metadata": {},
   "outputs": [],
   "source": []
  },
  {
   "cell_type": "code",
   "execution_count": null,
   "id": "8c706077",
   "metadata": {},
   "outputs": [],
   "source": []
  },
  {
   "cell_type": "code",
   "execution_count": null,
   "id": "af8a7d15",
   "metadata": {},
   "outputs": [],
   "source": []
  },
  {
   "cell_type": "code",
   "execution_count": null,
   "id": "7822740f",
   "metadata": {},
   "outputs": [],
   "source": []
  },
  {
   "cell_type": "code",
   "execution_count": null,
   "id": "194130a8",
   "metadata": {},
   "outputs": [],
   "source": []
  },
  {
   "cell_type": "code",
   "execution_count": null,
   "id": "c8815ead",
   "metadata": {},
   "outputs": [],
   "source": []
  },
  {
   "cell_type": "code",
   "execution_count": null,
   "id": "f2a177be",
   "metadata": {},
   "outputs": [],
   "source": []
  },
  {
   "cell_type": "code",
   "execution_count": null,
   "id": "8fea34b5",
   "metadata": {},
   "outputs": [],
   "source": []
  },
  {
   "cell_type": "code",
   "execution_count": null,
   "id": "a5c70cb9",
   "metadata": {},
   "outputs": [],
   "source": []
  },
  {
   "cell_type": "code",
   "execution_count": null,
   "id": "b40b9ee8",
   "metadata": {},
   "outputs": [],
   "source": []
  },
  {
   "cell_type": "markdown",
   "id": "324a1723",
   "metadata": {},
   "source": [
    "### For loop to plot every line with label"
   ]
  },
  {
   "cell_type": "code",
   "execution_count": 13,
   "id": "9039aa53",
   "metadata": {},
   "outputs": [
    {
     "name": "stdout",
     "output_type": "stream",
     "text": [
      "NaN\n"
     ]
    },
    {
     "data": {
      "image/png": "[encoded data removed]",
      "text/plain": [
       "<Figure size 432x288 with 1 Axes>"
      ]
     },
     "metadata": {
      "needs_background": "light"
     },
     "output_type": "display_data"
    }
   ],
   "source": [
    "NaN_Selected_Country = df_global_confirmed[df_global_confirmed['Country/Region'] == 'Albania']\n",
    "\n",
    "check_NaN = NaN_Selected_Country.index.shape[0]\n",
    "\n",
    "if check_NaN > 1:\n",
    "    print('Not NaN')\n",
    "else:\n",
    "    print('NaN')\n",
    "\n",
    "\n",
    "Selected_Country = df_global_confirmed[df_global_confirmed['Country/Region'] == 'Canada']\n",
    "for row in range(Selected_Country.shape[0]):\n",
    "    plt.plot(Selected_Country.iloc[row,5:], label = Selected_Country['Province/State'][Selected_Country.index[0]+row]) \n",
    "    plt.legend()\n",
    "    \n"
   ]
  },
  {
   "cell_type": "code",
   "execution_count": null,
   "id": "9fb52983",
   "metadata": {},
   "outputs": [],
   "source": []
  },
  {
   "cell_type": "code",
   "execution_count": null,
   "id": "b09f4689",
   "metadata": {},
   "outputs": [],
   "source": []
  },
  {
   "cell_type": "code",
   "execution_count": null,
   "id": "d830f8dd",
   "metadata": {},
   "outputs": [],
   "source": []
  },
  {
   "cell_type": "code",
   "execution_count": null,
   "id": "e76ad390",
   "metadata": {},
   "outputs": [],
   "source": []
  },
  {
   "cell_type": "code",
   "execution_count": null,
   "id": "20194bcd",
   "metadata": {},
   "outputs": [],
   "source": []
  },
  {
   "cell_type": "code",
   "execution_count": null,
   "id": "1eff066c",
   "metadata": {},
   "outputs": [],
   "source": []
  },
  {
   "cell_type": "code",
   "execution_count": null,
   "id": "1c9678ce",
   "metadata": {
    "scrolled": false
   },
   "outputs": [],
   "source": []
  },
  {
   "cell_type": "code",
   "execution_count": null,
   "id": "7bc9ac0a",
   "metadata": {},
   "outputs": [],
   "source": []
  },
  {
   "cell_type": "code",
   "execution_count": null,
   "id": "710d0d1f",
   "metadata": {},
   "outputs": [],
   "source": []
  },
  {
   "cell_type": "code",
   "execution_count": null,
   "id": "f4ff37ee",
   "metadata": {},
   "outputs": [],
   "source": []
  },
  {
   "cell_type": "code",
   "execution_count": 14,
   "id": "7934fd81",
   "metadata": {},
   "outputs": [
    {
     "ename": "NameError",
     "evalue": "name 'T1' is not defined",
     "output_type": "error",
     "traceback": [
      "\u001b[1;31m---------------------------------------------------------------------------\u001b[0m",
      "\u001b[1;31mNameError\u001b[0m                                 Traceback (most recent call last)",
      "\u001b[1;32m<ipython-input-14-e63dd1d87d3c>\u001b[0m in \u001b[0;36m<module>\u001b[1;34m\u001b[0m\n\u001b[1;32m----> 1\u001b[1;33m \u001b[0mT1\u001b[0m\u001b[1;33m.\u001b[0m\u001b[0mfillna\u001b[0m\u001b[1;33m(\u001b[0m\u001b[1;33m)\u001b[0m\u001b[1;33m\u001b[0m\u001b[1;33m\u001b[0m\u001b[0m\n\u001b[0m",
      "\u001b[1;31mNameError\u001b[0m: name 'T1' is not defined"
     ]
    }
   ],
   "source": [
    "T1.fillna()"
   ]
  },
  {
   "cell_type": "code",
   "execution_count": null,
   "id": "22fae1b4",
   "metadata": {},
   "outputs": [],
   "source": [
    "T_Provinces_data = T.iloc[0,5:]\n",
    "T_Provinces_data"
   ]
  },
  {
   "cell_type": "code",
   "execution_count": null,
   "id": "5e44c6f1",
   "metadata": {},
   "outputs": [],
   "source": [
    "plt.hist(T_Provinces_data, bins = 40)\n",
    "plt.show()"
   ]
  },
  {
   "cell_type": "code",
   "execution_count": null,
   "id": "f1a9a3fc",
   "metadata": {},
   "outputs": [],
   "source": []
  },
  {
   "cell_type": "markdown",
   "id": "7a03d011",
   "metadata": {},
   "source": [
    "### Reading Saved Data"
   ]
  },
  {
   "cell_type": "code",
   "execution_count": null,
   "id": "de97c074",
   "metadata": {},
   "outputs": [],
   "source": [
    "import matplotlib.pyplot as plt\n",
    "import seaborn as sns"
   ]
  },
  {
   "cell_type": "code",
   "execution_count": null,
   "id": "71419abb",
   "metadata": {},
   "outputs": [],
   "source": [
    "plt."
   ]
  },
  {
   "cell_type": "code",
   "execution_count": null,
   "id": "70f6be51",
   "metadata": {},
   "outputs": [],
   "source": [
    "CA = df_global_confirmed[df_global_confirmed['Country/Region'] == 'India']\n",
    "CA\n",
    "# CA['Province/State'] == 'NaN'\n",
    "T_columns = CA.iloc[:,5:]\n",
    "# print(plt.hist(T_columns.T, bins=20))"
   ]
  },
  {
   "cell_type": "code",
   "execution_count": null,
   "id": "3a5bb4f0",
   "metadata": {},
   "outputs": [],
   "source": [
    "plt.hist(T_columns.T ,bins= 20)\n",
    "plt.plot()"
   ]
  },
  {
   "cell_type": "code",
   "execution_count": null,
   "id": "295df7be",
   "metadata": {},
   "outputs": [],
   "source": []
  },
  {
   "cell_type": "code",
   "execution_count": null,
   "id": "bf99cc23",
   "metadata": {},
   "outputs": [],
   "source": []
  },
  {
   "cell_type": "code",
   "execution_count": null,
   "id": "d6af0027",
   "metadata": {},
   "outputs": [],
   "source": []
  },
  {
   "cell_type": "code",
   "execution_count": null,
   "id": "48b616ac",
   "metadata": {},
   "outputs": [],
   "source": []
  },
  {
   "cell_type": "code",
   "execution_count": null,
   "id": "64127e95",
   "metadata": {},
   "outputs": [],
   "source": []
  },
  {
   "cell_type": "code",
   "execution_count": null,
   "id": "508adfa1",
   "metadata": {},
   "outputs": [],
   "source": []
  },
  {
   "cell_type": "code",
   "execution_count": null,
   "id": "6989e431",
   "metadata": {},
   "outputs": [],
   "source": []
  },
  {
   "cell_type": "markdown",
   "id": "3373c2a4",
   "metadata": {},
   "source": [
    "## Sci Kit Learn"
   ]
  },
  {
   "cell_type": "code",
   "execution_count": null,
   "id": "52ec0530",
   "metadata": {},
   "outputs": [],
   "source": [
    "import sklearn"
   ]
  },
  {
   "cell_type": "code",
   "execution_count": null,
   "id": "0f4a7cdb",
   "metadata": {},
   "outputs": [],
   "source": []
  }
 ],
 "metadata": {
  "kernelspec": {
   "display_name": "Python 3",
   "language": "python",
   "name": "python3"
  },
  "language_info": {
   "codemirror_mode": {
    "name": "ipython",
    "version": 3
   },
   "file_extension": ".py",
   "mimetype": "text/x-python",
   "name": "python",
   "nbconvert_exporter": "python",
   "pygments_lexer": "ipython3",
   "version": "3.8.8"
  }
 },
 "nbformat": 4,
 "nbformat_minor": 5
}
